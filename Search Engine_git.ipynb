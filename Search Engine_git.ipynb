{
 "cells": [
  {
   "cell_type": "code",
   "execution_count": 2,
   "metadata": {},
   "outputs": [],
   "source": [
    "import json\n",
    "import string\n"
   ]
  },
  {
   "cell_type": "code",
   "execution_count": 3,
   "metadata": {},
   "outputs": [],
   "source": [
    "F = open('recipes.json')"
   ]
  },
  {
   "cell_type": "code",
   "execution_count": 4,
   "metadata": {},
   "outputs": [],
   "source": [
    "file = json.load(F)\n",
    "dict_ = file.copy()#for tokenisation\n",
    "token_data = file.copy()"
   ]
  },
  {
   "cell_type": "code",
   "execution_count": 5,
   "metadata": {},
   "outputs": [],
   "source": [
    "def remove_punc(s):\n",
    "    a=''\n",
    "    num = [0,1,2,3,4,5,6,7,8,9]\n",
    "    for i in s:\n",
    "        if i in string.punctuation:\n",
    "            a+=' '\n",
    "        \n",
    "        else:\n",
    "            a+=i.lower()\n",
    "    \n",
    "    if len(a)>=3:\n",
    "        return a\n",
    "    else:\n",
    "        pass\n",
    "\n",
    "def lst_remove_punc(tr):\n",
    "    t_lst = []\n",
    "    for i in tr:\n",
    "        t = remove_punc(i)\n",
    "        t_lst.append(t)\n",
    "    return t_lst"
   ]
  },
  {
   "cell_type": "markdown",
   "metadata": {},
   "source": [
    "# Search function : change the querry to lower\n"
   ]
  },
  {
   "cell_type": "code",
   "execution_count": 6,
   "metadata": {},
   "outputs": [],
   "source": [
    "\n",
    "def search(s):\n",
    "    result = []\n",
    "    \n",
    "    for i in dict_:\n",
    "        if s in i['title']:\n",
    "            result.append(i)\n",
    "            pass\n",
    "        \n",
    "        else:\n",
    "            for g in i['ingredients']:\n",
    "                \n",
    "                if s == g:\n",
    "                    result.append(i)\n",
    "                    pass\n",
    "            for f in i['directions']:\n",
    "                if s == f:\n",
    "                    result.append(i)\n",
    "                    pass\n",
    "            for h in i['categories']:\n",
    "                if s == h:\n",
    "                    result.append(i)\n",
    "                    pass\n",
    "    return result"
   ]
  },
  {
   "cell_type": "code",
   "execution_count": 7,
   "metadata": {},
   "outputs": [],
   "source": [
    "def score_normal(s,i):\n",
    "    a=0\n",
    "    b=0\n",
    "    c=0\n",
    "    d=0\n",
    "    if s in i['title']:\n",
    "        a+=1\n",
    "    if s in i['categories']:\n",
    "        b+=1\n",
    "    for j in i['directions']:\n",
    "        if s in j:\n",
    "            c+=1\n",
    "    #if None in i['ingredients']:\n",
    "     #   pass\n",
    "    else:\n",
    "        for item in i['ingredients']:\n",
    "            if s in item:\n",
    "                d +=1\n",
    "            else:\n",
    "                pass\n",
    "    score = (8*a)+(4*b)+(2*d)+(c)\n",
    "\n",
    "    return score\n"
   ]
  },
  {
   "cell_type": "code",
   "execution_count": 8,
   "metadata": {},
   "outputs": [],
   "source": [
    "def simple_score(i):\n",
    "    len_i=len(i['ingredients'])\n",
    "    len_d=len(i['directions'])\n",
    "    score_simp = (len_i*len_d)\n",
    "    return score_simp"
   ]
  },
  {
   "cell_type": "code",
   "execution_count": 9,
   "metadata": {},
   "outputs": [],
   "source": [
    "def fin(lst_s,n,rev):\n",
    "    \n",
    "    final_out = []\n",
    "    d = sorted(range(len(lst_s)), key=lambda i: lst_s[i], reverse = rev)[:n]\n",
    "    for i in d:\n",
    "        final_out.append(dict_[i])\n",
    "    return final_out\n",
    "    "
   ]
  },
  {
   "cell_type": "markdown",
   "metadata": {},
   "source": [
    " # tokenisation\n"
   ]
  },
  {
   "cell_type": "code",
   "execution_count": 10,
   "metadata": {},
   "outputs": [],
   "source": [
    "import time\n",
    "start = time.time()\n",
    "#all title is tokenised\n",
    "\n",
    "for i in range(len(file)):\n",
    "    \n",
    "    dict_[i]['title']=remove_punc(file[i]['title']).split()\n",
    "    \n"
   ]
  },
  {
   "cell_type": "code",
   "execution_count": null,
   "metadata": {},
   "outputs": [],
   "source": []
  },
  {
   "cell_type": "code",
   "execution_count": null,
   "metadata": {},
   "outputs": [],
   "source": []
  },
  {
   "cell_type": "code",
   "execution_count": 12,
   "metadata": {},
   "outputs": [],
   "source": [
    "\n",
    "\n",
    "#dealing with missing keys\n",
    "for i in dict_:\n",
    "    if 'categories' not in i.keys():\n",
    "        i['categories'] = '0'\n",
    "    if 'ingredients' not in i.keys():\n",
    "        i['ingredients'] = '0'\n",
    "    if 'directions' not in i.keys():\n",
    "        i['directions'] = '0'\n",
    "\n"
   ]
  },
  {
   "cell_type": "code",
   "execution_count": 13,
   "metadata": {},
   "outputs": [],
   "source": [
    "\n",
    "#tokenisation code\n",
    "tok_lst = ['categories','ingredients','directions']\n",
    "for j in tok_lst:\n",
    "    for i in range(len(file)):\n",
    "\n",
    "        dict_[i][j]=lst_remove_punc(dict_[i][j])    \n",
    "end = time.time()\n"
   ]
  },
  {
   "cell_type": "code",
   "execution_count": 13,
   "metadata": {},
   "outputs": [],
   "source": [
    "def search(query, ordering = 'normal',count = 10):\n",
    "    s = query\n",
    "    result = []\n",
    "    \n",
    "    for i in dict_:\n",
    "        if s in i['title']:\n",
    "            result.append(i)\n",
    "            pass\n",
    "        \n",
    "        else:\n",
    "            for g in i['ingredients']:\n",
    "                \n",
    "                if s == g:\n",
    "                    result.append(i)\n",
    "                    pass\n",
    "            for f in i['directions']:\n",
    "                if s == f:\n",
    "                    result.append(i)\n",
    "                    pass\n",
    "            for h in i['categories']:\n",
    "                if s == h:\n",
    "                    result.append(i)\n",
    "                    pass\n",
    "    #return result#remove once done with simple ordering   \n",
    "\n",
    "    if ordering == 'normal':\n",
    "        lst_s = []\n",
    "        for i in result:\n",
    "            lst_s.append(score_normal(s,i))\n",
    "        result_fin = fin(lst_s,count,True)\n",
    "    \n",
    "    elif ordering == 'simple':\n",
    "        lst_s = []\n",
    "        for i in result:\n",
    "            if(i['ingredients']=='0'):\n",
    "                result.remove(i)\n",
    "            if(i['directions']=='0'):\n",
    "                result.remove(i)\n",
    "        for i in result:\n",
    "            lst_s.append(simple_score(i))\n",
    "        result_fin = fin(lst_s,count,False)\n",
    "            \n",
    "            \n",
    "        \n",
    "        \n",
    "        \n",
    "    \n",
    "        \n",
    "\n",
    "                \n",
    "        \n",
    "    return result_fin\n",
    "    "
   ]
  },
  {
   "cell_type": "code",
   "execution_count": 20,
   "metadata": {},
   "outputs": [],
   "source": [
    "a= time.time()\n",
    "query = 'pasta'\n",
    "sou = search(query, ordering = 'normal',count = 1)\n",
    "b= time.time()\n",
    "\n"
   ]
  },
  {
   "cell_type": "code",
   "execution_count": 21,
   "metadata": {},
   "outputs": [
    {
     "data": {
      "text/plain": [
       "[{'title': ['apple', 'crostata', 'with', 'cheddar', 'cheese'],\n",
       "  'categories': ['food processor',\n",
       "   'cheese',\n",
       "   'fruit',\n",
       "   'dessert',\n",
       "   'bake',\n",
       "   'christmas',\n",
       "   'thanksgiving',\n",
       "   'cheddar',\n",
       "   'apple',\n",
       "   'fall',\n",
       "   'winter',\n",
       "   'party',\n",
       "   'bon appétit',\n",
       "   'kidney friendly',\n",
       "   'vegetarian',\n",
       "   'pescatarian',\n",
       "   'peanut free',\n",
       "   'tree nut free',\n",
       "   'soy free',\n",
       "   'kosher'],\n",
       "  'ingredients': ['1 cup all purpose flour',\n",
       "   '1 teaspoon sugar',\n",
       "   '1 4 teaspoon salt',\n",
       "   '1 2 cup  1 stick  chilled unsalted butter  cut into 1 2 inch pieces',\n",
       "   '1 large egg yolk',\n",
       "   '1 tablespoon  or more  ice water',\n",
       "   '1 2 teaspoon vanilla extract',\n",
       "   '1 4 cup sugar',\n",
       "   '1 4 teaspoon ground cinnamon',\n",
       "   '1 4 teaspoon ground ginger',\n",
       "   '1 1 2 pounds fuji apples  about 3 large   peeled  quartered  cored  cut into 1 4 inch thick slices',\n",
       "   '1 tablespoon unsalted butter  cut into small pieces',\n",
       "   '8 ounces sharp cheddar cheese  cut into 8 wedges'],\n",
       "  'directions': ['mix flour  sugar  and salt in processor  cut in butter  using on off turns  until mixture resembles coarse meal  whisk yolk  1 tablespoon ice water  and vanilla extract in small bowl to blend  add egg mixture to processor  blend until dough clumps together  adding more ice water by teaspoonfuls if dough is dry  form dough into ball  flatten into disk  wrap in plastic wrap  chill at least 1 hour ',\n",
       "   'roll out dough on floured surface to 12 inch round  transfer to 9 inch diameter tart pan with removable bottom  trim dough overhang to 1 inch  fold dough overhang in and press onto sides of pan  pierce crust all over with fork  refrigerate crust for 1 hour ',\n",
       "   'position rack in bottom third of oven and preheat to 400°f  mix first 3 ingredients in bowl  arrange apple slices in concentric circles in crust  overlapping and fitting tightly together  sprinkle with sugar mixture  dot with butter  bake until apples are tender and beginning to brown and crust is golden  about 55 minutes  cool tart in pan on rack at least 45 minutes   can be made 6 hours ahead  let stand at room temperature  ',\n",
       "   'serve tart slightly warm or at room temperature with cheese '],\n",
       "  'rating': 4.375,\n",
       "  'calories': 375.0,\n",
       "  'protein': 9.0,\n",
       "  'fat': 23.0}]"
      ]
     },
     "execution_count": 21,
     "metadata": {},
     "output_type": "execute_result"
    }
   ],
   "source": [
    "sou"
   ]
  },
  {
   "cell_type": "code",
   "execution_count": null,
   "metadata": {},
   "outputs": [],
   "source": []
  }
 ],
 "metadata": {
  "kernelspec": {
   "display_name": "Python 3",
   "language": "python",
   "name": "python3"
  },
  "language_info": {
   "codemirror_mode": {
    "name": "ipython",
    "version": 3
   },
   "file_extension": ".py",
   "mimetype": "text/x-python",
   "name": "python",
   "nbconvert_exporter": "python",
   "pygments_lexer": "ipython3",
   "version": "3.8.8"
  }
 },
 "nbformat": 4,
 "nbformat_minor": 2
}
